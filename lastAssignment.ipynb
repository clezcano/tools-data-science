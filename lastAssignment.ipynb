{
 "cells": [
  {
   "cell_type": "markdown",
   "id": "f2b0125c-6bc5-4dd3-b01a-33ad7ec11b5d",
   "metadata": {},
   "source": [
    "# <b>My Jupyter Notebook on IBM Watson Studio</b>"
   ]
  },
  {
   "cell_type": "markdown",
   "id": "6b4b002c-3c5b-477b-8f67-21ca40d7f36d",
   "metadata": {},
   "source": [
    "<b>Christian Lezcano</b>"
   ]
  },
  {
   "cell_type": "markdown",
   "id": "4e914ed1-d463-478c-a3fb-2c19e2f71fe8",
   "metadata": {},
   "source": [
    "Machine learning engineer"
   ]
  },
  {
   "cell_type": "markdown",
   "id": "44a1175c-17ed-46a2-a947-b4d7b04af000",
   "metadata": {},
   "source": [
    "<br><i>I am interested in data science because I like to uncover data that is not easily found and which can help society.</i>"
   ]
  },
  {
   "cell_type": "markdown",
   "id": "5a6821eb-da5b-461f-b743-494b06215063",
   "metadata": {},
   "source": [
    "### <br><b>The following code returns the factorial of a number</b>"
   ]
  },
  {
   "cell_type": "code",
   "execution_count": 9,
   "id": "80920c63-c93e-4a24-a4d0-d6ef9a8d3d66",
   "metadata": {},
   "outputs": [
    {
     "name": "stdout",
     "output_type": "stream",
     "text": [
      "24\n"
     ]
    }
   ],
   "source": [
    "import math\n",
    "n = 4\n",
    "print(math.factorial(n))"
   ]
  },
  {
   "cell_type": "markdown",
   "id": "d93f5f3d-6cfc-4f6a-b8be-43a1b97e68b6",
   "metadata": {},
   "source": [
    "<br><hr>"
   ]
  },
  {
   "attachments": {
    "cea53b6b-8d34-4a1a-930a-4a6546eaa049.svg": {
     "image/svg+xml": [
      "PD94bWwgdmVyc2lvbj0iMS4wIiBlbmNvZGluZz0iVVRGLTgiPz4KPHN2ZyB4bWxucz0iaHR0cDovL3d3dy53My5vcmcvMjAwMC9zdmciIHdpZHRoPSI1MTIiIGhlaWdodD0iNDA3IiBzdHJva2U9IiMwMDAiPgo8cGF0aCBzdHJva2Utd2lkdGg9IjQ4IiBzdHJva2UtZGFzaGFycmF5PSI0OCw4MCIgZD0ibTM0LDEydjMwNCIvPgo8cGF0aCBzdHJva2Utd2lkdGg9IjM5NiIgc3Ryb2tlLWRhc2hhcnJheT0iMjQsMTA0IiBkPSJtMzA2LDI0djI4MCIvPgo8L3N2Zz4="
     ]
    }
   },
   "cell_type": "markdown",
   "id": "37cd742b-ba9e-4397-a38d-f054007d3337",
   "metadata": {},
   "source": [
    "<br><br><img src=\"pic.svg\" width=\"150\" height=\"190![pic.svg](attachment:cea53b6b-8d34-4a1a-930a-4a6546eaa049.svg)\">"
   ]
  },
  {
   "cell_type": "markdown",
   "id": "865a3d9d-d07e-4fc4-9d5f-9cf132637f76",
   "metadata": {},
   "source": [
    "<b>List of items</b>"
   ]
  },
  {
   "cell_type": "markdown",
   "id": "7c9aaf18-d1b0-4a74-9312-8326db799faa",
   "metadata": {},
   "source": [
    "<ol>\n",
    "<li>Item a</li>\n",
    "<li>Item b</li>\n",
    "<li>Item c</li>\n",
    "</ol>"
   ]
  },
  {
   "cell_type": "markdown",
   "id": "3f0cb818-37cd-46cd-b2a3-714c444901bf",
   "metadata": {},
   "source": [
    "<br><hr>"
   ]
  },
  {
   "cell_type": "markdown",
   "id": "f3b282ad-8bef-4972-842d-bddc753257cd",
   "metadata": {},
   "source": [
    "<table>\n",
    "<thead>\n",
    "<tr><th>Column 1</th><th>Column 2</th><th>Column 3</th></tr>\n",
    "</thead>\n",
    "<tbody>\n",
    "<tr><td>item 1.1</td><td>item 1.2</td><td>item 1.3</td></tr>\n",
    "<tr><td>item 2.1</td><td>item 2.2</td><td>item 2.3</td></tr>\n",
    "</tbody>\n",
    "</table>"
   ]
  },
  {
   "cell_type": "markdown",
   "id": "29f32a86-5a8d-4f1e-ae08-641f3c2d7e36",
   "metadata": {},
   "source": [
    "<br>[Information about this course](https://www.coursera.org/learn/open-source-tools-for-data-science/home/info)"
   ]
  }
 ],
 "metadata": {
  "kernelspec": {
   "display_name": "Python 3 (ipykernel)",
   "language": "python",
   "name": "python3"
  },
  "language_info": {
   "codemirror_mode": {
    "name": "ipython",
    "version": 3
   },
   "file_extension": ".py",
   "mimetype": "text/x-python",
   "name": "python",
   "nbconvert_exporter": "python",
   "pygments_lexer": "ipython3",
   "version": "3.9.7"
  }
 },
 "nbformat": 4,
 "nbformat_minor": 5
}
